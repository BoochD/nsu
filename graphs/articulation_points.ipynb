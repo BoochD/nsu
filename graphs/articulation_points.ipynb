{
 "cells": [
  {
   "cell_type": "markdown",
   "id": "41552419",
   "metadata": {},
   "source": [
    "Алгоритм по нахождению точек сочленения в связном графе.\n",
    "Выводит шарниры в порядке их нумерации в матрице смежности\n",
    "Опишу функции и их реализацию."
   ]
  },
  {
   "cell_type": "markdown",
   "id": "6a0ddd82",
   "metadata": {},
   "source": [
    "1) Функция dfs_mod - модифицированный для поиска точек сочленения поиск в глубину.\n",
    "Принимает на вход:\n",
    "матрицу смежности (adj_matr),\n",
    "вершину с которой начинается обход (start), \n",
    "вспомогательный список, в котором хранятся необходимые для дальнейших действий данные, в том числе dnum, low и пр. (check_list),\n",
    "счетчик порядка обхода (counter).\n",
    "Возвращает:\n",
    "список, с заполненными для каждой вершины: порядком обхода, родителем, dnum, low\n",
    "и counter(сделано для удобства реализации и контроля порядк вхождения. Вне самой функции можно игнорировать)\n",
    "\n",
    "При первом вызове достаточно передать только матрицу смежности, тогда обход по умолчанию начнется с нулевой вершины. \n",
    "\n",
    "Внутри происходит стандартный поиск в глубину, но при этом, когда функция выходит из рекурсии, мы пересчитываем low для соответствующей вершины."
   ]
  },
  {
   "cell_type": "code",
   "execution_count": 5,
   "id": "e62217ff-afb4-4aac-a463-313c01d97a92",
   "metadata": {},
   "outputs": [],
   "source": [
    "\n",
    "\n",
    "def dfs_mod(adj_mat, start=0, check_list=None, counter=0):\n",
    "    # list of lists [num_of_vertex, is_checked, parent, dnum, low]\n",
    "    if check_list == None:\n",
    "        check_list = [[i, False, 0, 0, 0] for i in range(0, len(adj_mat))]\n",
    "\n",
    "    check_list[start][1] = True\n",
    "    check_list[start][3] = counter\n",
    "    check_list[start][4] = counter\n",
    "    counter += 1\n",
    "    \n",
    "    # вывод порядка обхода в глубину\n",
    "    # print(start)\n",
    "\n",
    "    # обход в глубину\n",
    "    for i in range(len(adj_mat)):\n",
    "        if adj_mat[start][i] == 1 and not check_list[i][1]:\n",
    "            check_list[i][2] = start\n",
    "            check_list, counter = dfs_mod(adj_mat, i, check_list, counter)\n",
    "\n",
    "    # пересчет low\n",
    "    minL = len(adj_mat)+1\n",
    "    for i in range(0, len(adj_mat)):\n",
    "        if check_list[i][2] == start:\n",
    "            if minL > check_list[i][4]:\n",
    "                minL = check_list[i][4]\n",
    "\n",
    "    minD = len(adj_mat)+1\n",
    "    for i in range(0, len(adj_mat)):\n",
    "        if adj_mat[start][i] == 1 and check_list[i][2] != start:\n",
    "            if minD > check_list[i][3]:\n",
    "                minD = check_list[i][3]\n",
    "\n",
    "    low = min(minD, minL)\n",
    "    check_list[start][4] = low\n",
    "\n",
    "    return check_list, counter\n"
   ]
  },
  {
   "cell_type": "markdown",
   "id": "e14f1660",
   "metadata": {},
   "source": [
    "2) Функция поиска шарниров по данным вершин (известны low, dnum, предок).\n",
    "Принимает на вход:\n",
    "список, полученный из первой функции\n",
    "Выводит: список шарниров\n",
    "\n",
    "Реализация: вершина v проверяется на то, есть ли у нее потомок u, такой, что low(u) = dnum(v)\n",
    "Также, проверяется нулевая вершина, на наличие у нее более одного потомка "
   ]
  },
  {
   "cell_type": "code",
   "execution_count": 6,
   "id": "9d64fbfc-2ab8-4b1d-85b9-2407e87d29cb",
   "metadata": {},
   "outputs": [],
   "source": [
    "\n",
    "\n",
    "def articulation_points(check_list):\n",
    "    result = []\n",
    "    counter = 0\n",
    "    for i in range(1, len(check_list)):\n",
    "        if check_list[i][2] == 0:\n",
    "            counter += 1\n",
    "    if counter > 1:\n",
    "        result.append(0)\n",
    "\n",
    "    for i in range(1, len(check_list)):\n",
    "        for j in range(0, len(check_list)):\n",
    "            if i != j and check_list[j][4] == check_list[i][3]:\n",
    "                result.append(i)\n",
    "                break\n",
    "    return result\n",
    "        "
   ]
  },
  {
   "cell_type": "markdown",
   "id": "0e66de8b",
   "metadata": {},
   "source": [
    "Примеры, на которых тестировал алгоритм.\n",
    "Присутствую циклы, деревья, пути."
   ]
  },
  {
   "cell_type": "code",
   "execution_count": 7,
   "id": "d1a1ac43-19ad-4176-b8f1-1ddb128195f9",
   "metadata": {},
   "outputs": [],
   "source": [
    "# wikipedia\n",
    "example1 = [\n",
    "    [0, 1, 0, 0, 0, 0],\n",
    "    [1, 0, 1, 1, 1, 0],\n",
    "    [0, 1, 0, 1, 0, 0],\n",
    "    [0, 1, 1, 0, 1, 0],\n",
    "    [0, 1, 0, 1, 0, 1],\n",
    "    [0, 0, 0, 0, 1, 0]]\n",
    "\n",
    "# path\n",
    "example2 = [\n",
    "    [0, 1, 1, 0, 0, 0],\n",
    "    [1, 0, 0, 0, 1, 0],\n",
    "    [1, 0, 0, 1, 0, 0],\n",
    "    [0, 0, 1, 0, 0, 0],\n",
    "    [0, 1, 0, 0, 0, 1],\n",
    "    [0, 0, 0, 0, 1, 0]]\n",
    "\n",
    "# complete\n",
    "example3 = [\n",
    "    [0, 1, 1, 1, 1],\n",
    "    [1, 0, 1, 1, 1],\n",
    "    [1, 1, 0, 1, 1],\n",
    "    [1, 1, 1, 0, 1],\n",
    "    [1, 1, 1, 1, 0]]\n",
    "\n",
    "# example from seminar\n",
    "example4 = [\n",
    "    [0, 1, 0, 0, 1, 0, 0, 0, 0, 0, 0, 0],\n",
    "    [1, 0, 1, 1, 0, 1, 0, 0, 0, 0, 0, 0],\n",
    "    [0, 1, 0, 1, 0, 0, 0, 0, 0, 0, 0, 0],\n",
    "    [0, 1, 1, 0, 1, 0, 0, 0, 0, 0, 0, 1],\n",
    "    [1, 0, 0, 1, 0, 0, 0, 0, 1, 0, 0, 0],\n",
    "    [0, 1, 0, 0, 0, 0, 0, 0, 0, 0, 0, 0],\n",
    "    [0, 0, 0, 0, 0, 0, 0, 1, 0, 0, 0, 1],\n",
    "    [0, 0, 0, 0, 0, 0, 1, 0, 0, 0, 0, 1],\n",
    "    [0, 0, 0, 0, 1, 0, 0, 0, 0, 1, 1, 0],\n",
    "    [0, 0, 0, 0, 0, 0, 0, 0, 1, 0, 1, 0],\n",
    "    [0, 0, 0, 0, 0, 0, 0, 0, 1, 1, 0, 0],\n",
    "    [0, 0, 0, 1, 0, 0, 1, 1, 0, 0, 0, 0]]\n",
    "\n",
    "# tree\n",
    "example5 = [\n",
    "    [0, 1, 1, 0, 0, 0, 0, 0, 0],\n",
    "    [1, 0, 0, 1, 1, 0, 0, 0, 0],\n",
    "    [1, 0, 0, 0, 0, 1, 1, 1, 0],\n",
    "    [0, 1, 0, 0, 0, 0, 0, 0, 0],\n",
    "    [0, 1, 0, 0, 0, 0, 0, 0, 1],\n",
    "    [0, 0, 1, 0, 0, 0, 0, 0, 0],\n",
    "    [0, 0, 1, 0, 0, 0, 0, 0, 0],\n",
    "    [0, 0, 1, 0, 0, 0, 0, 0, 0],\n",
    "    [0, 0, 0, 0, 1, 0, 0, 0, 0]]\n",
    "\n",
    "# tree with cycle\n",
    "example6 = [\n",
    "    [0, 1, 1, 0, 0, 0, 0, 0, 0, 0],\n",
    "    [1, 0, 0, 1, 1, 0, 0, 0, 0, 0],\n",
    "    [1, 0, 0, 0, 0, 1, 1, 1, 0, 0],\n",
    "    [0, 1, 0, 0, 0, 0, 0, 0, 0, 0],\n",
    "    [0, 1, 0, 0, 0, 0, 0, 0, 1, 0],\n",
    "    [0, 0, 1, 0, 0, 0, 0, 0, 0, 0],\n",
    "    [0, 0, 1, 0, 0, 0, 0, 0, 0, 0],\n",
    "    [0, 0, 1, 0, 0, 0, 0, 0, 1, 0],\n",
    "    [0, 0, 0, 0, 1, 0, 0, 1, 0, 1],\n",
    "    [0, 0, 0, 0, 0, 0, 0, 0, 1, 0]]"
   ]
  },
  {
   "cell_type": "markdown",
   "id": "8a0a38c8",
   "metadata": {},
   "source": [
    "Select a test case:"
   ]
  },
  {
   "cell_type": "code",
   "execution_count": 12,
   "id": "1c3f0309-3097-4ff8-aded-609694bff11c",
   "metadata": {},
   "outputs": [],
   "source": [
    "adj_matr = example2"
   ]
  },
  {
   "cell_type": "code",
   "execution_count": 13,
   "id": "ef917a0d-ef4f-4342-a375-d00accbd8b10",
   "metadata": {},
   "outputs": [],
   "source": [
    "check_list, temp = dfs_mod(adj_matr)\n",
    "result = articulation_points(check_list)"
   ]
  },
  {
   "cell_type": "markdown",
   "id": "23d52e2c",
   "metadata": {},
   "source": [
    "Articulation points list:"
   ]
  },
  {
   "cell_type": "code",
   "execution_count": 14,
   "id": "19a09e8e-baea-4089-80cc-b6fbe0c7162a",
   "metadata": {},
   "outputs": [
    {
     "data": {
      "text/plain": [
       "[0, 1, 2, 4]"
      ]
     },
     "execution_count": 14,
     "metadata": {},
     "output_type": "execute_result"
    }
   ],
   "source": [
    "result"
   ]
  }
 ],
 "metadata": {
  "kernelspec": {
   "display_name": "Python 3 (ipykernel)",
   "language": "python",
   "name": "python3"
  },
  "language_info": {
   "codemirror_mode": {
    "name": "ipython",
    "version": 3
   },
   "file_extension": ".py",
   "mimetype": "text/x-python",
   "name": "python",
   "nbconvert_exporter": "python",
   "pygments_lexer": "ipython3",
   "version": "3.9.0"
  }
 },
 "nbformat": 4,
 "nbformat_minor": 5
}
