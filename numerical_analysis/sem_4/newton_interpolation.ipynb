{
 "cells": [
  {
   "cell_type": "code",
   "execution_count": 16,
   "id": "ecb34acc",
   "metadata": {},
   "outputs": [
    {
     "data": {
      "image/png": "[encoded data removed]",
      "text/plain": [
       "<Figure size 640x480 with 1 Axes>"
      ]
     },
     "metadata": {},
     "output_type": "display_data"
    },
    {
     "name": "stdout",
     "output_type": "stream",
     "text": [
      "Многочлен имеет вид: P(x) = -5.23037918871284e-7*x**8 + 2.39880952380964e-5*x**7 - 0.000472523148148167*x**6 + 0.00524444444444459*x**5 - 0.0361819560185192*x**4 + 0.16187402777778*x**3 - 0.480506108906528*x**2 + 1.01640753968254*x - 0.666388888888889\n",
      "В точке x = 5.25 функция принимает значение f(x) = 0.720178058966003\n"
     ]
    }
   ],
   "source": [
    "import matplotlib.pyplot as plt\n",
    "import numpy as np\n",
    "from sympy import *\n",
    "\n",
    "\n",
    "def computeDividedDiff(points) -> list[list]:\n",
    "    numOfLines = len(points) - 1\n",
    "    dividedDifferences = []\n",
    "    for i in range(0, numOfLines):\n",
    "        dividedDifferences.append([])\n",
    "        for j in range(0, numOfLines-i):\n",
    "            if i == 0:\n",
    "                s = (float(points[j + 1][1]) - float(points[j][1])) / (float(points[j + 1][0]) - float(points[j][0]))\n",
    "                dividedDifferences[i].append(s)\n",
    "            else:\n",
    "                s = (dividedDifferences[i-1][j+1] - dividedDifferences[i-1][j])/(float(points[i +j+1][0]) - float(points[j][0]))\n",
    "                dividedDifferences[i].append(s)\n",
    "    return dividedDifferences\n",
    "\n",
    "\n",
    "def interpolation(points):\n",
    "    dividedDifferences = computeDividedDiff(points)\n",
    "    y, x, s = symbols(\"y,x,s\")\n",
    "    y = float(points[0][1])\n",
    "    for i in range(1, len(points)):\n",
    "        s = 1\n",
    "        for j in range(0, i):\n",
    "            s *= x - float(points[j][0])\n",
    "        y += expand(s)*dividedDifferences[i-1][0]\n",
    "    return y\n",
    "\n",
    "\n",
    "def computeFunc(y, x, arr) -> list:\n",
    "    newArr = []\n",
    "    for i in range(0, len(arr)):\n",
    "        newArr.append(float(y.subs(x, arr[i])))\n",
    "    return newArr\n",
    "\n",
    "\n",
    "points = []\n",
    "\n",
    "with open('C:\\\\Users\\hambi\\source\\jupyter\\input2.txt', 'r') as f:\n",
    "    numOfPoints = int(f.readline())\n",
    "    for i in range(0, numOfPoints):\n",
    "        string = f.readline()\n",
    "        points.append(list(map(float, string.split())))\n",
    "\n",
    "y,x = symbols(\"y,x\")               \n",
    "y = interpolation(points)\n",
    "\n",
    "\n",
    "fig = plt.figure()\n",
    "ax = fig.add_subplot(1, 1, 1)\n",
    "ax.spines['left'].set_position('center')\n",
    "ax.spines['bottom'].set_position('zero')\n",
    "ax.spines['right'].set_color('none')\n",
    "ax.spines['top'].set_color('none')\n",
    "ax.xaxis.set_ticks_position('bottom')\n",
    "ax.yaxis.set_ticks_position('left')\n",
    "\n",
    "arr = np.linspace(1,10,200)\n",
    "\n",
    "plt.plot(arr,computeFunc(y,x,arr), 'b')\n",
    "plt.title(\"Newton\")\n",
    "plt.show()\n",
    "\n",
    "print(\"Многочлен имеет вид: P(x) = \" + str(y))\n",
    "print(\"В точке x = 5.25 функция принимает значение f(x) =\",y.subs(x,5.25))"
   ]
  },
  {
   "cell_type": "code",
   "execution_count": null,
   "id": "6e93aa64",
   "metadata": {},
   "outputs": [],
   "source": []
  },
  {
   "cell_type": "code",
   "execution_count": null,
   "id": "8b6d1f7e",
   "metadata": {},
   "outputs": [],
   "source": []
  }
 ],
 "metadata": {
  "kernelspec": {
   "display_name": "Python 3 (ipykernel)",
   "language": "python",
   "name": "python3"
  },
  "language_info": {
   "codemirror_mode": {
    "name": "ipython",
    "version": 3
   },
   "file_extension": ".py",
   "mimetype": "text/x-python",
   "name": "python",
   "nbconvert_exporter": "python",
   "pygments_lexer": "ipython3",
   "version": "3.9.13"
  }
 },
 "nbformat": 4,
 "nbformat_minor": 5
}
