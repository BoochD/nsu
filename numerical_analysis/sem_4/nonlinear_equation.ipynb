{
 "cells": [
  {
   "cell_type": "code",
   "execution_count": 3,
   "id": "860adc6f",
   "metadata": {},
   "outputs": [
    {
     "name": "stdout",
     "output_type": "stream",
     "text": [
      "Iterations newton: 5\n",
      "newton solution: 1.7632228343518968\n",
      "Iterations dihotomia: 29\n",
      "dihotomia solution: 1.7632228340953588\n",
      "----------------------\n",
      "Iterations newton: 47\n",
      "-1.0\n"
     ]
    },
    {
     "name": "stderr",
     "output_type": "stream",
     "text": [
      "C:\\Users\\hambi\\AppData\\Local\\Temp\\ipykernel_16004\\1357689072.py:22: DeprecationWarning: scipy.misc.derivative is deprecated in SciPy v1.10.0; and will be completely removed in SciPy v1.12.0. You may consider using findiff: https://github.com/maroba/findiff or numdifftools: https://github.com/pbrod/numdifftools\n",
      "  x_curr = x_curr - f(x_curr)/misc.derivative(f, x_curr, dx=1e-6)\n",
      "C:\\Users\\hambi\\AppData\\Local\\Temp\\ipykernel_16004\\1357689072.py:35: DeprecationWarning: scipy.misc.derivative is deprecated in SciPy v1.10.0; and will be completely removed in SciPy v1.12.0. You may consider using findiff: https://github.com/maroba/findiff or numdifftools: https://github.com/pbrod/numdifftools\n",
      "  x_curr = x_curr - f(x_curr)/misc.derivative(f, x_curr, dx=1e-6)\n"
     ]
    },
    {
     "data": {
      "image/png": "[encoded data removed]",
      "text/plain": [
       "<Figure size 640x480 with 1 Axes>"
      ]
     },
     "metadata": {},
     "output_type": "display_data"
    }
   ],
   "source": [
    "import matplotlib.pyplot as plt\n",
    "import numpy as np\n",
    "from sympy import *\n",
    "from scipy import misc\n",
    "\n",
    "\n",
    "def f(x):\n",
    "    return x*np.log(x) - 1\n",
    "\n",
    "\n",
    "def special_f(x):\n",
    "    return x**3 - x\n",
    "\n",
    "\n",
    "def newton_solution(f, approximation, epsilon):\n",
    "    iteration_counter = 0\n",
    "    x_curr = approximation\n",
    "    x_prev = approximation+1\n",
    "    while abs(x_curr - x_prev) > epsilon:\n",
    "        iteration_counter += 1\n",
    "        x_prev = x_curr\n",
    "        x_curr = x_curr - f(x_curr)/misc.derivative(f, x_curr, dx=1e-6)\n",
    "    print('Iterations newton:', iteration_counter)\n",
    "    return x_curr\n",
    "    \n",
    "def calc_newton_solution(f, epsilon, arr):\n",
    "    result = []\n",
    "    for i in arr:\n",
    "        iteration_counter = 0\n",
    "        x_curr = i\n",
    "        x_prev = i+1\n",
    "        while abs(x_curr - x_prev) > epsilon:\n",
    "            iteration_counter += 1\n",
    "            x_prev = x_curr\n",
    "            x_curr = x_curr - f(x_curr)/misc.derivative(f, x_curr, dx=1e-6)\n",
    "        result.append(x_curr) \n",
    "    return result\n",
    "    \n",
    "\n",
    "def dihotomia_solution(f, approximation, epsilon, a, b):\n",
    "    if f(a)*f(b) > 0:\n",
    "        return 0\n",
    "    iteration_counter = 0\n",
    "    c = (a + b)/2\n",
    "    while abs(f(c)) > epsilon:\n",
    "        iteration_counter += 1\n",
    "        if f(c)*f(a) < 0:\n",
    "            b = c\n",
    "            c = (b + a)/2\n",
    "        elif f(c)*f(b) < 0: \n",
    "            a = c\n",
    "            c = (b + a)/2\n",
    "    print('Iterations dihotomia:', iteration_counter)\n",
    "    return c\n",
    "\n",
    "a = 1\n",
    "b = 3\n",
    "epsilon = 0.000000001\n",
    "approximation = 1\n",
    "print('newton solution:', newton_solution(f, approximation, epsilon))\n",
    "print('dihotomia solution:', dihotomia_solution(f, approximation, epsilon, a, b))\n",
    "print('----------------------')\n",
    "\n",
    "# for i in range(-10,10):\n",
    "#     print('First approximation:', i)\n",
    "#     print('solution:', newton_solution(special_f, i, epsilon))\n",
    "#     print('----------------------')\n",
    "\n",
    "# for i in np.arange(-1, 1.1, 0.1):\n",
    "#     print('First approximation:', i)\n",
    "#     print('solution:', newton_solution(special_f, i, epsilon))\n",
    "#     print('----------------------')\n",
    "    \n",
    "print(newton_solution(special_f, 0.57735026, epsilon))\n",
    "\n",
    "arr = np.linspace(-1, 1, 1000)\n",
    "\n",
    "fig = plt.figure()\n",
    "ax = fig.add_subplot(1, 1, 1)\n",
    "ax.spines['left'].set_position('center')\n",
    "ax.spines['bottom'].set_position('zero')\n",
    "ax.spines['right'].set_color('none')\n",
    "ax.spines['top'].set_color('none')\n",
    "ax.xaxis.set_ticks_position('bottom')\n",
    "ax.yaxis.set_ticks_position('left')\n",
    "\n",
    "plt.plot(arr, calc_newton_solution(special_f, epsilon, arr), 'b')\n",
    "plt.show()"
   ]
  },
  {
   "cell_type": "code",
   "execution_count": 4,
   "id": "b11c0e6c",
   "metadata": {},
   "outputs": [
    {
     "name": "stdout",
     "output_type": "stream",
     "text": [
      "Iterations newton: 8\n",
      "9.817923012665526e-24\n",
      "0.3862943611198906\n",
      "2.098612289058721\n"
     ]
    },
    {
     "name": "stderr",
     "output_type": "stream",
     "text": [
      "C:\\Users\\hambi\\AppData\\Local\\Temp\\ipykernel_16004\\1357689072.py:22: DeprecationWarning: scipy.misc.derivative is deprecated in SciPy v1.10.0; and will be completely removed in SciPy v1.12.0. You may consider using findiff: https://github.com/maroba/findiff or numdifftools: https://github.com/pbrod/numdifftools\n",
      "  x_curr = x_curr - f(x_curr)/misc.derivative(f, x_curr, dx=1e-6)\n",
      "C:\\Users\\hambi\\AppData\\Local\\Temp\\ipykernel_16004\\2517579366.py:3: DeprecationWarning: scipy.misc.derivative is deprecated in SciPy v1.10.0; and will be completely removed in SciPy v1.12.0. You may consider using findiff: https://github.com/maroba/findiff or numdifftools: https://github.com/pbrod/numdifftools\n",
      "  print(misc.derivative(f, 3.0, dx=1e-6))\n"
     ]
    }
   ],
   "source": [
    "print(newton_solution(special_f, 0.447, epsilon))\n",
    "print((f(2)))\n",
    "print(misc.derivative(f, 3.0, dx=1e-6))"
   ]
  },
  {
   "cell_type": "code",
   "execution_count": 5,
   "id": "14187a17",
   "metadata": {},
   "outputs": [
    {
     "name": "stdout",
     "output_type": "stream",
     "text": [
      "Iterations newton: 8\n",
      "9.817923012665526e-24\n"
     ]
    },
    {
     "name": "stderr",
     "output_type": "stream",
     "text": [
      "C:\\Users\\hambi\\AppData\\Local\\Temp\\ipykernel_16004\\1357689072.py:22: DeprecationWarning: scipy.misc.derivative is deprecated in SciPy v1.10.0; and will be completely removed in SciPy v1.12.0. You may consider using findiff: https://github.com/maroba/findiff or numdifftools: https://github.com/pbrod/numdifftools\n",
      "  x_curr = x_curr - f(x_curr)/misc.derivative(f, x_curr, dx=1e-6)\n"
     ]
    }
   ],
   "source": [
    "print(newton_solution(special_f, 0.447, epsilon))"
   ]
  }
 ],
 "metadata": {
  "kernelspec": {
   "display_name": "Python 3",
   "language": "python",
   "name": "python3"
  },
  "language_info": {
   "codemirror_mode": {
    "name": "ipython",
    "version": 3
   },
   "file_extension": ".py",
   "mimetype": "text/x-python",
   "name": "python",
   "nbconvert_exporter": "python",
   "pygments_lexer": "ipython3",
   "version": "3.11.4"
  }
 },
 "nbformat": 4,
 "nbformat_minor": 5
}
