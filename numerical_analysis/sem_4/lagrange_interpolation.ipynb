{
 "cells": [
  {
   "cell_type": "code",
   "execution_count": 3,
   "id": "a74653da",
   "metadata": {},
   "outputs": [
    {
     "data": {
      "image/png": "[encoded data removed]",
      "text/plain": [
       "<Figure size 640x480 with 1 Axes>"
      ]
     },
     "metadata": {},
     "output_type": "display_data"
    },
    {
     "name": "stdout",
     "output_type": "stream",
     "text": [
      "Многочлен с погрешностью имеет вид: P(x) = 0.00644248704651907*x**5 - 0.165535457388052*x**3 + 5.55111512312578e-17*x**2 + 1.0058281993025*x\n",
      "Многочлен без погрешности имеет вид: P(x) = 0.006442487*x**5 - 0.16553546*x**3 + 5.5511151e-17*x**2 + 1.0058282*x\n",
      "В точке x = 0.15 функция принимает значение f(x) = 0.150316036953050\n"
     ]
    }
   ],
   "source": [
    "import matplotlib.pyplot as plt\n",
    "import numpy as np\n",
    "from sympy import *\n",
    "\n",
    "\n",
    "def interpolation(points):\n",
    "    y, x, s = symbols(\"y,x,s\")\n",
    "    y = 0\n",
    "    for i in range(0, len(points)):\n",
    "        s = 1\n",
    "        for j in range(0, len(points)):\n",
    "            if (i != j):\n",
    "                s *= (x - float(points[j][0])) / float(float(points[i][0]) - float(points[j][0]))\n",
    "        y += expand(s) * float(points[i][1])\n",
    "    return y\n",
    "\n",
    "\n",
    "def computeFunc(y, x, arr):\n",
    "    newArr = []\n",
    "    for i in range(0, len(arr)):\n",
    "        newArr.append(float(y.subs(x, arr[i])))\n",
    "    return newArr\n",
    "\n",
    "\n",
    "points = []\n",
    "\n",
    "with open('input\\lagrange_input.txt', 'r') as f:\n",
    "    numOfPoints = int(f.readline())\n",
    "    for i in range(0, numOfPoints):\n",
    "        string = f.readline()\n",
    "        points.append(list(map(float, string.split())))\n",
    "\n",
    "y, x = symbols(\"y,x\")\n",
    "\n",
    "y = interpolation(points)\n",
    "\n",
    "z = y.evalf(8)\n",
    "fig = plt.figure()\n",
    "ax = fig.add_subplot(1, 1, 1)\n",
    "ax.spines['left'].set_position('center')\n",
    "ax.spines['bottom'].set_position('zero')\n",
    "ax.spines['right'].set_color('none')\n",
    "ax.spines['top'].set_color('none')\n",
    "ax.xaxis.set_ticks_position('bottom')\n",
    "ax.yaxis.set_ticks_position('left')\n",
    "\n",
    "arr = np.linspace(-5, 5, 100)\n",
    "\n",
    "plt.plot(arr, computeFunc(y, x, arr), 'b')\n",
    "plt.show()\n",
    "\n",
    "print(\"Многочлен с погрешностью имеет вид: P(x) = \" + str(y))\n",
    "print(\"Многочлен без погрешности имеет вид: P(x) = \" + str(z))\n",
    "print(\"В точке x = 0.15 функция принимает значение f(x) =\", y.subs(x, 0.15))\n"
   ]
  }
 ],
 "metadata": {
  "kernelspec": {
   "display_name": "Python 3",
   "language": "python",
   "name": "python3"
  },
  "language_info": {
   "codemirror_mode": {
    "name": "ipython",
    "version": 3
   },
   "file_extension": ".py",
   "mimetype": "text/x-python",
   "name": "python",
   "nbconvert_exporter": "python",
   "pygments_lexer": "ipython3",
   "version": "3.11.4"
  },
  "widgets": {
   "application/vnd.jupyter.widget-state+json": {
    "state": {},
    "version_major": 2,
    "version_minor": 0
   }
  }
 },
 "nbformat": 4,
 "nbformat_minor": 5
}
