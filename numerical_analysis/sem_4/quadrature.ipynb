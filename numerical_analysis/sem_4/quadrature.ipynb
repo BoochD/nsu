{
 "cells": [
  {
   "cell_type": "code",
   "execution_count": 4,
   "id": "f48d0526",
   "metadata": {},
   "outputs": [
    {
     "name": "stdout",
     "output_type": "stream",
     "text": [
      "Квадратура средний прямоугольников: 0.9045312501614893\n",
      "Квадратура трапеции: 0.9045102133804177\n",
      "Квадратура Симпсона: 0.9045242379011323\n",
      "Квадратура Гаусса на 2х узлах: 0.9058564068758035\n",
      "Квадратура Гаусса на 3х узлах: 0.904428080875034\n",
      "Квадратура Гаусса на 5и узлах: 0.9045242648306598\n"
     ]
    }
   ],
   "source": [
    "import matplotlib.pyplot as plt\n",
    "import numpy as np\n",
    "from sympy import *\n",
    "\n",
    "def f(x):\n",
    "    #return x\n",
    "    #return np.cos(x)**2\n",
    "    return (np.cos(x**2))\n",
    "\n",
    "\n",
    "def midpoint_quadrature(a, b, n) -> float:\n",
    "    h = (b - a)/n\n",
    "    integral = 0\n",
    "    for i in range(1, n + 1):   \n",
    "        integral += f((2*a + (h*i) + (h*(i-1)))/2)*h\n",
    "    return integral\n",
    "\n",
    "\n",
    "def trapezoid_quadrature(a, b, n) -> float:\n",
    "    h = (b - a)/n\n",
    "    integral = 0\n",
    "    for i in range(1, n + 1):\n",
    "        integral += (f(a+h*i) + f(a+h*(i-1)))*h/2\n",
    "    return integral\n",
    "\n",
    "\n",
    "def simpson_quadrature(a, b, n) -> float: \n",
    "    h = (b - a)/n\n",
    "    integral = 0\n",
    "    for i in range(1, n + 1):\n",
    "        integral += (f(a+h*i) + 4*f((2*a + (h*i) + (h*(i-1)))/2) + f(a+h*(i-1)))*h/6\n",
    "    return integral\n",
    "\n",
    "\n",
    "def gauss_quadrature_two_nodes(a, b) -> float:\n",
    "    c = (b + a)/2\n",
    "    d = b - a\n",
    "    integral = (f(c + d/(2*(3**0.5))) + f(c - d/(2*(3**0.5))))*d/2\n",
    "    return integral\n",
    "    \n",
    "    \n",
    "def gauss_quadrature_three_nodes(a, b) -> float:\n",
    "    c = (b + a)/2\n",
    "    d = (b - a)/2\n",
    "    integral = d*(f(c)*(8/9) + f(c + d*((3/5)**0.5))*(5/9) + f(c - d*((3/5)**0.5))*(5/9))\n",
    "    return integral  \n",
    "\n",
    "\n",
    "def gauss_quadrature_five_nodes(a, b) -> float:\n",
    "    c = (b + a)/2\n",
    "    d = (b - a)/2\n",
    "    first = f(c)*128/225\n",
    "    second = (f(c + d*(1/3)*(5 - 2*(10/7)**0.5)**0.5))*(322 + 13*70**0.5)/900    \n",
    "    third = (f(c - d*(1/3)*(5 - 2*(10/7)**0.5)**0.5))*(322 + 13*70**0.5)/900\n",
    "    fourth = (f(c + d*(1/3)*(5 + 2*(10/7)**0.5)**0.5))*(322 - 13*70**0.5)/900\n",
    "    fifth = (f(c - d*(1/3)*(5 + 2*(10/7)**0.5)**0.5))*(322 - 13*70**0.5)/900\n",
    "    integral = d*(first + second + third + fourth + fifth)\n",
    "    return integral\n",
    "\n",
    "\n",
    "#a = np.pi/2\n",
    "#b = 3*np.pi/2\n",
    "a = 0\n",
    "b = 1\n",
    "n = 100\n",
    "        \n",
    "print(\"Квадратура средний прямоугольников:\", midpoint_quadrature(a, b, n))\n",
    "print(\"Квадратура трапеции:\", trapezoid_quadrature(a, b, n))\n",
    "print(\"Квадратура Симпсона:\", simpson_quadrature(a, b, n))\n",
    "print(\"Квадратура Гаусса на 2х узлах:\", gauss_quadrature_two_nodes(a, b))\n",
    "print(\"Квадратура Гаусса на 3х узлах:\", gauss_quadrature_three_nodes(a, b))\n",
    "print(\"Квадратура Гаусса на 5и узлах:\", gauss_quadrature_five_nodes(a, b))"
   ]
  },
  {
   "cell_type": "code",
   "execution_count": 12,
   "id": "d6d9b8a9",
   "metadata": {},
   "outputs": [
    {
     "data": {
      "text/plain": [
       "20.0"
      ]
     },
     "execution_count": 12,
     "metadata": {},
     "output_type": "execute_result"
    }
   ],
   "source": [
    "10*4**0.5"
   ]
  },
  {
   "cell_type": "code",
   "execution_count": 1,
   "id": "1a92937c",
   "metadata": {},
   "outputs": [
    {
     "name": "stdout",
     "output_type": "stream",
     "text": [
      "Requirement already satisfied: scipy in c:\\users\\hambi\\anaconda3\\lib\\site-packages (1.9.1)\n",
      "Requirement already satisfied: numpy<1.25.0,>=1.18.5 in c:\\users\\hambi\\anaconda3\\lib\\site-packages (from scipy) (1.21.5)\n",
      "Note: you may need to restart the kernel to use updated packages.\n"
     ]
    }
   ],
   "source": [
    "pip install scipy"
   ]
  },
  {
   "cell_type": "code",
   "execution_count": null,
   "id": "759241df",
   "metadata": {},
   "outputs": [],
   "source": []
  }
 ],
 "metadata": {
  "kernelspec": {
   "display_name": "Python 3 (ipykernel)",
   "language": "python",
   "name": "python3"
  },
  "language_info": {
   "codemirror_mode": {
    "name": "ipython",
    "version": 3
   },
   "file_extension": ".py",
   "mimetype": "text/x-python",
   "name": "python",
   "nbconvert_exporter": "python",
   "pygments_lexer": "ipython3",
   "version": "3.9.13"
  }
 },
 "nbformat": 4,
 "nbformat_minor": 5
}
